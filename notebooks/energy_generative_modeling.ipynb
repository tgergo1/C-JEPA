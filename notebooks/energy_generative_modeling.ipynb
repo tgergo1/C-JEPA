{
 "cells": [
  {
   "cell_type": "markdown",
   "id": "d838b26d",
   "metadata": {},
   "source": [
    "# Energy-Based Generative Modeling\n",
    "\n",
    "Train an `EnergyNetwork` to generate samples that match a one-dimensional distribution."
   ]
  },
  {
   "cell_type": "code",
   "execution_count": null,
   "id": "b9e1f5d9",
   "metadata": {},
   "outputs": [],
   "source": [
    "import numpy as np\n",
    "from bio_snn.energy_based import EnergyNetwork"
   ]
  },
  {
   "cell_type": "code",
   "execution_count": null,
   "id": "5077e466",
   "metadata": {},
   "outputs": [],
   "source": [
    "data = np.random.normal(0, 1, 100)\n",
    "net = EnergyNetwork([1, 8, 1])"
   ]
  },
  {
   "cell_type": "code",
   "execution_count": null,
   "id": "514e8111",
   "metadata": {},
   "outputs": [],
   "source": [
    "for x in data:\n",
    "    for _ in range(10):\n",
    "        net.train_step(np.array([x]), np.array([x]), lr=0.05)\n",
    "print('Sample after training:', net.forward(np.array([0.0])))"
   ]
  }
 ],
 "metadata": {},
 "nbformat": 4,
 "nbformat_minor": 5
}
