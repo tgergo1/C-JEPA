{
 "cells": [
  {
   "cell_type": "markdown",
   "id": "ef9889e9",
   "metadata": {},
   "source": [
    "# Energy-Based Sequence Prediction\n",
    "\n",
    "Use an `EnergyNetwork` to predict the next value in a short numerical sequence."
   ]
  },
  {
   "cell_type": "code",
   "execution_count": null,
   "id": "6403a361",
   "metadata": {},
   "outputs": [],
   "source": [
    "import numpy as np\n",
    "from bio_snn.energy_based import EnergyNetwork"
   ]
  },
  {
   "cell_type": "code",
   "execution_count": null,
   "id": "3756f849",
   "metadata": {},
   "outputs": [],
   "source": [
    "seq = np.sin(np.linspace(0, 4*np.pi, 20))\n",
    "inputs = np.stack([seq[:-1], seq[1:]], axis=1)\n",
    "net = EnergyNetwork([2, 16, 1])"
   ]
  },
  {
   "cell_type": "code",
   "execution_count": null,
   "id": "65bbeba0",
   "metadata": {},
   "outputs": [],
   "source": [
    "for x, target in inputs:\n",
    "    for _ in range(20):\n",
    "        net.train_step(x, np.array([target]), lr=0.05)\n",
    "print('Prediction for first step:', net.forward(inputs[0]))"
   ]
  }
 ],
 "metadata": {},
 "nbformat": 4,
 "nbformat_minor": 5
}
