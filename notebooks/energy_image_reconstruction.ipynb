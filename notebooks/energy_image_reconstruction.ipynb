{
 "cells": [
  {
   "cell_type": "markdown",
   "id": "8151465e",
   "metadata": {},
   "source": [
    "# Energy-Based Image Reconstruction\n",
    "\n",
    "This example trains a simple `EnergyNetwork` to reconstruct 8x8 images using gradient descent."
   ]
  },
  {
   "cell_type": "code",
   "execution_count": null,
   "id": "010310b7",
   "metadata": {},
   "outputs": [],
   "source": [
    "import numpy as np\n",
    "from bio_snn.energy_based import EnergyNetwork"
   ]
  },
  {
   "cell_type": "code",
   "execution_count": null,
   "id": "c6813ed3",
   "metadata": {},
   "outputs": [],
   "source": [
    "# create a toy dataset of 8x8 binary images\n",
    "images = np.random.randint(0, 2, (10, 64)).astype(float)\n",
    "net = EnergyNetwork([64, 32, 64])"
   ]
  },
  {
   "cell_type": "code",
   "execution_count": null,
   "id": "111a89bd",
   "metadata": {},
   "outputs": [],
   "source": [
    "# training loop\n",
    "for img in images:\n",
    "    for _ in range(50):\n",
    "        net.train_step(img, img, lr=0.1)\n",
    "print('Energy on first image:', net.energy(images[0], images[0]))"
   ]
  }
 ],
 "metadata": {},
 "nbformat": 4,
 "nbformat_minor": 5
}
